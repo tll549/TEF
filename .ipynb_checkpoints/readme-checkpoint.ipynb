{
 "cells": [
  {
   "cell_type": "markdown",
   "metadata": {},
   "source": [
    "tll549 (Ethan)'s Exploratory Functions\n",
    "\n",
    "Email: el@tll.tl\n",
    "\n",
    "- https://github.com/tll549/TEF\n",
    "- https://pypi.org/project/TEF/\n",
    "\n",
    "\n",
    "# Installation\n",
    "\n",
    "Use the the first line for first time installation. Use the second one to upgrade anytime."
   ]
  },
  {
   "cell_type": "code",
   "execution_count": null,
   "metadata": {
    "ExecuteTime": {
     "end_time": "2019-08-06T21:13:09.385728Z",
     "start_time": "2019-08-06T21:13:07.572512Z"
    }
   },
   "outputs": [],
   "source": [
    "!pip install TEF"
   ]
  },
  {
   "cell_type": "code",
   "execution_count": 1,
   "metadata": {
    "ExecuteTime": {
     "end_time": "2019-08-06T22:20:07.045261Z",
     "start_time": "2019-08-06T22:20:04.605390Z"
    }
   },
   "outputs": [
    {
     "name": "stdout",
     "output_type": "stream",
     "text": [
      "Collecting TEF\n",
      "  Downloading https://files.pythonhosted.org/packages/6b/fd/ced559ecf12b31a9ba3e83b493e2c18fef275635c98f9cc20bf30bad6aac/TEF-0.2.3-py3-none-any.whl\n",
      "Installing collected packages: TEF\n",
      "  Found existing installation: TEF 0.2.2\n",
      "    Uninstalling TEF-0.2.2:\n",
      "      Successfully uninstalled TEF-0.2.2\n",
      "Successfully installed TEF-0.2.3\n"
     ]
    }
   ],
   "source": [
    "!pip install TEF -U"
   ]
  },
  {
   "cell_type": "code",
   "execution_count": 2,
   "metadata": {
    "ExecuteTime": {
     "end_time": "2019-08-06T22:20:07.053238Z",
     "start_time": "2019-08-06T22:20:07.047281Z"
    }
   },
   "outputs": [],
   "source": [
    "import TEF"
   ]
  },
  {
   "cell_type": "markdown",
   "metadata": {},
   "source": [
    "# Quick start\n",
    "\n",
    "Skip to docs below if you want to know the details of functions.\n",
    "\n",
    "Imagine you got an dirty dataset"
   ]
  },
  {
   "cell_type": "code",
   "execution_count": 3,
   "metadata": {
    "ExecuteTime": {
     "end_time": "2019-08-06T22:20:07.693553Z",
     "start_time": "2019-08-06T22:20:07.056230Z"
    }
   },
   "outputs": [
    {
     "data": {
      "text/html": [
       "<div>\n",
       "<style scoped>\n",
       "    .dataframe tbody tr th:only-of-type {\n",
       "        vertical-align: middle;\n",
       "    }\n",
       "\n",
       "    .dataframe tbody tr th {\n",
       "        vertical-align: top;\n",
       "    }\n",
       "\n",
       "    .dataframe thead th {\n",
       "        text-align: right;\n",
       "    }\n",
       "</style>\n",
       "<table border=\"1\" class=\"dataframe\">\n",
       "  <thead>\n",
       "    <tr style=\"text-align: right;\">\n",
       "      <th></th>\n",
       "      <th>datetime_col</th>\n",
       "      <th>int_col</th>\n",
       "      <th>float_col</th>\n",
       "      <th>bool_col</th>\n",
       "      <th>category_col</th>\n",
       "      <th>object_col</th>\n",
       "    </tr>\n",
       "  </thead>\n",
       "  <tbody>\n",
       "    <tr>\n",
       "      <th>0</th>\n",
       "      <td>1990-01-01</td>\n",
       "      <td>34</td>\n",
       "      <td>132.54</td>\n",
       "      <td>True</td>\n",
       "      <td>a</td>\n",
       "      <td>zzzzz</td>\n",
       "    </tr>\n",
       "    <tr>\n",
       "      <th>1</th>\n",
       "      <td>NaN</td>\n",
       "      <td>645</td>\n",
       "      <td>NaN</td>\n",
       "      <td>False</td>\n",
       "      <td>a</td>\n",
       "      <td>zzzz</td>\n",
       "    </tr>\n",
       "    <tr>\n",
       "      <th>2</th>\n",
       "      <td>NaN</td>\n",
       "      <td>23</td>\n",
       "      <td>21399.23</td>\n",
       "      <td>True</td>\n",
       "      <td>b</td>\n",
       "      <td></td>\n",
       "    </tr>\n",
       "    <tr>\n",
       "      <th>3</th>\n",
       "      <td>NaN</td>\n",
       "      <td>4</td>\n",
       "      <td>0.00</td>\n",
       "      <td>False</td>\n",
       "      <td>b</td>\n",
       "      <td>nan</td>\n",
       "    </tr>\n",
       "    <tr>\n",
       "      <th>4</th>\n",
       "      <td>2017-01-01</td>\n",
       "      <td>0</td>\n",
       "      <td>434.74</td>\n",
       "      <td>False</td>\n",
       "      <td>b</td>\n",
       "      <td>x</td>\n",
       "    </tr>\n",
       "    <tr>\n",
       "      <th>5</th>\n",
       "      <td>NaN</td>\n",
       "      <td>6</td>\n",
       "      <td>4592309.23</td>\n",
       "      <td>False</td>\n",
       "      <td>c</td>\n",
       "      <td></td>\n",
       "    </tr>\n",
       "  </tbody>\n",
       "</table>\n",
       "</div>"
      ],
      "text/plain": [
       "  datetime_col  int_col   float_col bool_col category_col object_col\n",
       "0   1990-01-01       34      132.54     True            a      zzzzz\n",
       "1          NaN      645         NaN    False            a       zzzz\n",
       "2          NaN       23    21399.23     True            b           \n",
       "3          NaN        4        0.00    False            b        nan\n",
       "4   2017-01-01        0      434.74    False            b          x\n",
       "5          NaN        6  4592309.23    False            c           "
      ]
     },
     "execution_count": 3,
     "metadata": {},
     "output_type": "execute_result"
    }
   ],
   "source": [
    "import pandas as pd\n",
    "import numpy as np\n",
    "\n",
    "np.random.seed(555)\n",
    "raw = pd.DataFrame({'datetime_col': ['1990-01-01', float('nan'), float('nan'), float('nan'), \n",
    "                                     '2017-01-01', float('nan')],\n",
    "                    'int_col': [34, 645, 23, 4, 0, 6],\n",
    "                    'float_col': [132.54, float('nan'), 21399.23, 0, 434.74, 4592309.23],\n",
    "                    'bool_col': [True, False, True, False, False, False],\n",
    "                    'category_col': ['a', 'a', 'b', 'b', 'b', 'c'],\n",
    "                    'object_col': ['zzzzz', 'zzzz', ' ', 'nan', 'x', '   ']})\n",
    "raw.bool_col = raw.bool_col.astype(object) # set it to object for demo\n",
    "raw"
   ]
  },
  {
   "cell_type": "markdown",
   "metadata": {},
   "source": [
    "So the first thing you can do is to pass it to `auto_set_dtypes()`, it tries to detect all columns dtypes and return it for you. \n",
    "\n",
    "Long story short, it use regular expression to detect datatime pattern, set to `category` if the number of levels is lower than 10 (adjust in `max_num_lev`).\n",
    "\n",
    "For here, because the dataset is tiny, I we manually set the 5th columns to `object` for demo."
   ]
  },
  {
   "cell_type": "markdown",
   "metadata": {},
   "source": [
    "## auto_set_dtypes"
   ]
  },
  {
   "cell_type": "code",
   "execution_count": 4,
   "metadata": {
    "ExecuteTime": {
     "end_time": "2019-08-06T22:20:07.717466Z",
     "start_time": "2019-08-06T22:20:07.695523Z"
    }
   },
   "outputs": [
    {
     "name": "stdout",
     "output_type": "stream",
     "text": [
      "before dtypes: float64(1), int64(1), object(4)\n",
      "after  dtypes: bool(1), category(1), datetime64[ns](1), float64(1), int64(1), object(1)\n"
     ]
    }
   ],
   "source": [
    "d = TEF.auto_set_dtypes(raw, set_object=[5])"
   ]
  },
  {
   "cell_type": "markdown",
   "metadata": {},
   "source": [
    "## dfmeta"
   ]
  },
  {
   "cell_type": "markdown",
   "metadata": {},
   "source": [
    "Now, it comes to the main function for this package, `dfmeta()`. It tries to give you an detailed overview that you dont ever need to type anything like `.head()`, `.describe()`, `.info()`, `.dtypes` etc."
   ]
  },
  {
   "cell_type": "code",
   "execution_count": 5,
   "metadata": {
    "ExecuteTime": {
     "end_time": "2019-08-06T22:20:08.644369Z",
     "start_time": "2019-08-06T22:20:07.719459Z"
    },
    "scrolled": false
   },
   "outputs": [
    {
     "name": "stdout",
     "output_type": "stream",
     "text": [
      "shape: (6, 6)\n",
      "dtypes: bool(1), category(1), datetime64[ns](1), float64(1), int64(1), object(1)\n",
      "memory usage: 388.0+ bytes\n"
     ]
    },
    {
     "data": {
      "text/html": [
       "<style  type=\"text/css\" >\n",
       "    #T_596cd00a_b898_11e9_882b_5c5f67a418f1row0_col0 {\n",
       "            background-color:  white;\n",
       "        }    #T_596cd00a_b898_11e9_882b_5c5f67a418f1row0_col1 {\n",
       "            border:  1px solid white;\n",
       "            background-color:  #e7feee;\n",
       "        }    #T_596cd00a_b898_11e9_882b_5c5f67a418f1row0_col2 {\n",
       "            border:  1px solid white;\n",
       "            background-color:  #e7feee;\n",
       "        }    #T_596cd00a_b898_11e9_882b_5c5f67a418f1row0_col3 {\n",
       "            border:  1px solid white;\n",
       "            background-color:  #e7feee;\n",
       "        }    #T_596cd00a_b898_11e9_882b_5c5f67a418f1row0_col4 {\n",
       "            border:  1px solid white;\n",
       "            background-color:  #e7feee;\n",
       "             color:  red;\n",
       "        }    #T_596cd00a_b898_11e9_882b_5c5f67a418f1row0_col5 {\n",
       "            border:  1px solid white;\n",
       "            background-color:  #e7feee;\n",
       "        }    #T_596cd00a_b898_11e9_882b_5c5f67a418f1row0_col6 {\n",
       "            border:  1px solid white;\n",
       "            background-color:  #e7feee;\n",
       "        }    #T_596cd00a_b898_11e9_882b_5c5f67a418f1row0_col7 {\n",
       "            border:  1px solid white;\n",
       "            background-color:  #e7feee;\n",
       "        }    #T_596cd00a_b898_11e9_882b_5c5f67a418f1row0_col8 {\n",
       "            border:  1px solid white;\n",
       "            background-color:  #e7feee;\n",
       "        }    #T_596cd00a_b898_11e9_882b_5c5f67a418f1row0_col9 {\n",
       "            border:  1px solid white;\n",
       "            background-color:  #e7feee;\n",
       "        }    #T_596cd00a_b898_11e9_882b_5c5f67a418f1row0_col10 {\n",
       "            border:  1px solid white;\n",
       "            background-color:  #e7feee;\n",
       "        }    #T_596cd00a_b898_11e9_882b_5c5f67a418f1row0_col11 {\n",
       "            border:  1px solid white;\n",
       "            background-color:  #e7feee;\n",
       "        }    #T_596cd00a_b898_11e9_882b_5c5f67a418f1row0_col12 {\n",
       "            border:  1px solid white;\n",
       "            background-color:  #e7feee;\n",
       "        }    #T_596cd00a_b898_11e9_882b_5c5f67a418f1row1_col0 {\n",
       "            background-color:  white;\n",
       "        }    #T_596cd00a_b898_11e9_882b_5c5f67a418f1row1_col1 {\n",
       "            border:  1px solid white;\n",
       "            background-color:  #fefee7;\n",
       "        }    #T_596cd00a_b898_11e9_882b_5c5f67a418f1row1_col2 {\n",
       "            border:  1px solid white;\n",
       "            background-color:  #fefee7;\n",
       "        }    #T_596cd00a_b898_11e9_882b_5c5f67a418f1row1_col3 {\n",
       "            border:  1px solid white;\n",
       "            background-color:  #fefee7;\n",
       "        }    #T_596cd00a_b898_11e9_882b_5c5f67a418f1row1_col4 {\n",
       "            border:  1px solid white;\n",
       "            background-color:  #fefee7;\n",
       "        }    #T_596cd00a_b898_11e9_882b_5c5f67a418f1row1_col5 {\n",
       "            border:  1px solid white;\n",
       "            background-color:  #fefee7;\n",
       "        }    #T_596cd00a_b898_11e9_882b_5c5f67a418f1row1_col6 {\n",
       "            border:  1px solid white;\n",
       "            background-color:  #fefee7;\n",
       "        }    #T_596cd00a_b898_11e9_882b_5c5f67a418f1row1_col7 {\n",
       "            border:  1px solid white;\n",
       "            background-color:  #fefee7;\n",
       "        }    #T_596cd00a_b898_11e9_882b_5c5f67a418f1row1_col8 {\n",
       "            border:  1px solid white;\n",
       "            background-color:  #fefee7;\n",
       "        }    #T_596cd00a_b898_11e9_882b_5c5f67a418f1row1_col9 {\n",
       "            border:  1px solid white;\n",
       "            background-color:  #fefee7;\n",
       "        }    #T_596cd00a_b898_11e9_882b_5c5f67a418f1row1_col10 {\n",
       "            border:  1px solid white;\n",
       "            background-color:  #fefee7;\n",
       "        }    #T_596cd00a_b898_11e9_882b_5c5f67a418f1row1_col11 {\n",
       "            border:  1px solid white;\n",
       "            background-color:  #fefee7;\n",
       "        }    #T_596cd00a_b898_11e9_882b_5c5f67a418f1row1_col12 {\n",
       "            border:  1px solid white;\n",
       "            background-color:  #fefee7;\n",
       "        }    #T_596cd00a_b898_11e9_882b_5c5f67a418f1row2_col0 {\n",
       "            background-color:  white;\n",
       "        }    #T_596cd00a_b898_11e9_882b_5c5f67a418f1row2_col1 {\n",
       "            border:  1px solid white;\n",
       "            background-color:  #fef2e7;\n",
       "        }    #T_596cd00a_b898_11e9_882b_5c5f67a418f1row2_col2 {\n",
       "            border:  1px solid white;\n",
       "            background-color:  #fef2e7;\n",
       "        }    #T_596cd00a_b898_11e9_882b_5c5f67a418f1row2_col3 {\n",
       "            border:  1px solid white;\n",
       "            background-color:  #fef2e7;\n",
       "        }    #T_596cd00a_b898_11e9_882b_5c5f67a418f1row2_col4 {\n",
       "            border:  1px solid white;\n",
       "            background-color:  #fef2e7;\n",
       "        }    #T_596cd00a_b898_11e9_882b_5c5f67a418f1row2_col5 {\n",
       "            border:  1px solid white;\n",
       "            background-color:  #fef2e7;\n",
       "        }    #T_596cd00a_b898_11e9_882b_5c5f67a418f1row2_col6 {\n",
       "            border:  1px solid white;\n",
       "            background-color:  #fef2e7;\n",
       "        }    #T_596cd00a_b898_11e9_882b_5c5f67a418f1row2_col7 {\n",
       "            border:  1px solid white;\n",
       "            background-color:  #fef2e7;\n",
       "        }    #T_596cd00a_b898_11e9_882b_5c5f67a418f1row2_col8 {\n",
       "            border:  1px solid white;\n",
       "            background-color:  #fef2e7;\n",
       "        }    #T_596cd00a_b898_11e9_882b_5c5f67a418f1row2_col9 {\n",
       "            border:  1px solid white;\n",
       "            background-color:  #fef2e7;\n",
       "        }    #T_596cd00a_b898_11e9_882b_5c5f67a418f1row2_col10 {\n",
       "            border:  1px solid white;\n",
       "            background-color:  #fef2e7;\n",
       "        }    #T_596cd00a_b898_11e9_882b_5c5f67a418f1row2_col11 {\n",
       "            border:  1px solid white;\n",
       "            background-color:  #fef2e7;\n",
       "        }    #T_596cd00a_b898_11e9_882b_5c5f67a418f1row2_col12 {\n",
       "            border:  1px solid white;\n",
       "            background-color:  #fef2e7;\n",
       "        }    #T_596cd00a_b898_11e9_882b_5c5f67a418f1row3_col0 {\n",
       "            background-color:  white;\n",
       "        }    #T_596cd00a_b898_11e9_882b_5c5f67a418f1row3_col1 {\n",
       "            border:  1px solid white;\n",
       "            background-color:  #e7fefe;\n",
       "        }    #T_596cd00a_b898_11e9_882b_5c5f67a418f1row3_col2 {\n",
       "            border:  1px solid white;\n",
       "            background-color:  #e7fefe;\n",
       "        }    #T_596cd00a_b898_11e9_882b_5c5f67a418f1row3_col3 {\n",
       "            border:  1px solid white;\n",
       "            background-color:  #e7fefe;\n",
       "        }    #T_596cd00a_b898_11e9_882b_5c5f67a418f1row3_col4 {\n",
       "            border:  1px solid white;\n",
       "            background-color:  #e7fefe;\n",
       "        }    #T_596cd00a_b898_11e9_882b_5c5f67a418f1row3_col5 {\n",
       "            border:  1px solid white;\n",
       "            background-color:  #e7fefe;\n",
       "        }    #T_596cd00a_b898_11e9_882b_5c5f67a418f1row3_col6 {\n",
       "            border:  1px solid white;\n",
       "            background-color:  #e7fefe;\n",
       "        }    #T_596cd00a_b898_11e9_882b_5c5f67a418f1row3_col7 {\n",
       "            border:  1px solid white;\n",
       "            background-color:  #e7fefe;\n",
       "        }    #T_596cd00a_b898_11e9_882b_5c5f67a418f1row3_col8 {\n",
       "            border:  1px solid white;\n",
       "            background-color:  #e7fefe;\n",
       "        }    #T_596cd00a_b898_11e9_882b_5c5f67a418f1row3_col9 {\n",
       "            border:  1px solid white;\n",
       "            background-color:  #e7fefe;\n",
       "        }    #T_596cd00a_b898_11e9_882b_5c5f67a418f1row3_col10 {\n",
       "            border:  1px solid white;\n",
       "            background-color:  #e7fefe;\n",
       "        }    #T_596cd00a_b898_11e9_882b_5c5f67a418f1row3_col11 {\n",
       "            border:  1px solid white;\n",
       "            background-color:  #e7fefe;\n",
       "        }    #T_596cd00a_b898_11e9_882b_5c5f67a418f1row3_col12 {\n",
       "            border:  1px solid white;\n",
       "            background-color:  #e7fefe;\n",
       "        }    #T_596cd00a_b898_11e9_882b_5c5f67a418f1row4_col0 {\n",
       "            background-color:  white;\n",
       "        }    #T_596cd00a_b898_11e9_882b_5c5f67a418f1row4_col1 {\n",
       "            border:  1px solid white;\n",
       "            background-color:  #e7ecfe;\n",
       "        }    #T_596cd00a_b898_11e9_882b_5c5f67a418f1row4_col2 {\n",
       "            border:  1px solid white;\n",
       "            background-color:  #e7ecfe;\n",
       "        }    #T_596cd00a_b898_11e9_882b_5c5f67a418f1row4_col3 {\n",
       "            border:  1px solid white;\n",
       "            background-color:  #e7ecfe;\n",
       "        }    #T_596cd00a_b898_11e9_882b_5c5f67a418f1row4_col4 {\n",
       "            border:  1px solid white;\n",
       "            background-color:  #e7ecfe;\n",
       "        }    #T_596cd00a_b898_11e9_882b_5c5f67a418f1row4_col5 {\n",
       "            border:  1px solid white;\n",
       "            background-color:  #e7ecfe;\n",
       "        }    #T_596cd00a_b898_11e9_882b_5c5f67a418f1row4_col6 {\n",
       "            border:  1px solid white;\n",
       "            background-color:  #e7ecfe;\n",
       "        }    #T_596cd00a_b898_11e9_882b_5c5f67a418f1row4_col7 {\n",
       "            border:  1px solid white;\n",
       "            background-color:  #e7ecfe;\n",
       "        }    #T_596cd00a_b898_11e9_882b_5c5f67a418f1row4_col8 {\n",
       "            border:  1px solid white;\n",
       "            background-color:  #e7ecfe;\n",
       "        }    #T_596cd00a_b898_11e9_882b_5c5f67a418f1row4_col9 {\n",
       "            border:  1px solid white;\n",
       "            background-color:  #e7ecfe;\n",
       "        }    #T_596cd00a_b898_11e9_882b_5c5f67a418f1row4_col10 {\n",
       "            border:  1px solid white;\n",
       "            background-color:  #e7ecfe;\n",
       "        }    #T_596cd00a_b898_11e9_882b_5c5f67a418f1row4_col11 {\n",
       "            border:  1px solid white;\n",
       "            background-color:  #e7ecfe;\n",
       "        }    #T_596cd00a_b898_11e9_882b_5c5f67a418f1row4_col12 {\n",
       "            border:  1px solid white;\n",
       "            background-color:  #e7ecfe;\n",
       "        }    #T_596cd00a_b898_11e9_882b_5c5f67a418f1row5_col0 {\n",
       "            background-color:  white;\n",
       "        }    #T_596cd00a_b898_11e9_882b_5c5f67a418f1row5_col1 {\n",
       "            border:  1px solid white;\n",
       "            background-color:  #f2f2f2;\n",
       "        }    #T_596cd00a_b898_11e9_882b_5c5f67a418f1row5_col2 {\n",
       "            border:  1px solid white;\n",
       "            background-color:  #f2f2f2;\n",
       "        }    #T_596cd00a_b898_11e9_882b_5c5f67a418f1row5_col3 {\n",
       "            border:  1px solid white;\n",
       "            background-color:  #f2f2f2;\n",
       "        }    #T_596cd00a_b898_11e9_882b_5c5f67a418f1row5_col4 {\n",
       "            border:  1px solid white;\n",
       "            background-color:  #f2f2f2;\n",
       "        }    #T_596cd00a_b898_11e9_882b_5c5f67a418f1row5_col5 {\n",
       "            border:  1px solid white;\n",
       "            background-color:  #f2f2f2;\n",
       "        }    #T_596cd00a_b898_11e9_882b_5c5f67a418f1row5_col6 {\n",
       "            border:  1px solid white;\n",
       "            background-color:  #f2f2f2;\n",
       "        }    #T_596cd00a_b898_11e9_882b_5c5f67a418f1row5_col7 {\n",
       "            border:  1px solid white;\n",
       "            background-color:  #f2f2f2;\n",
       "        }    #T_596cd00a_b898_11e9_882b_5c5f67a418f1row5_col8 {\n",
       "            border:  1px solid white;\n",
       "            background-color:  #f2f2f2;\n",
       "        }    #T_596cd00a_b898_11e9_882b_5c5f67a418f1row5_col9 {\n",
       "            border:  1px solid white;\n",
       "            background-color:  #f2f2f2;\n",
       "        }    #T_596cd00a_b898_11e9_882b_5c5f67a418f1row5_col10 {\n",
       "            border:  1px solid white;\n",
       "            background-color:  #f2f2f2;\n",
       "        }    #T_596cd00a_b898_11e9_882b_5c5f67a418f1row5_col11 {\n",
       "            border:  1px solid white;\n",
       "            background-color:  #f2f2f2;\n",
       "        }    #T_596cd00a_b898_11e9_882b_5c5f67a418f1row5_col12 {\n",
       "            border:  1px solid white;\n",
       "            background-color:  #f2f2f2;\n",
       "        }</style><table id=\"T_596cd00a_b898_11e9_882b_5c5f67a418f1\" ><thead>    <tr>        <th class=\"col_heading level0 col0\" >col name</th>        <th class=\"col_heading level0 col1\" >idx</th>        <th class=\"col_heading level0 col2\" >dtype</th>        <th class=\"col_heading level0 col3\" >description</th>        <th class=\"col_heading level0 col4\" >NaNs</th>        <th class=\"col_heading level0 col5\" >unique counts</th>        <th class=\"col_heading level0 col6\" >unique levs</th>        <th class=\"col_heading level0 col7\" >summary</th>        <th class=\"col_heading level0 col8\" >possible NaNs</th>        <th class=\"col_heading level0 col9\" >possible dup lev</th>        <th class=\"col_heading level0 col10\" >row 0</th>        <th class=\"col_heading level0 col11\" >row 3</th>        <th class=\"col_heading level0 col12\" >row 5</th>    </tr></thead><tbody>\n",
       "                <tr>\n",
       "                                <td id=\"T_596cd00a_b898_11e9_882b_5c5f67a418f1row0_col0\" class=\"data row0 col0\" >datetime_col</td>\n",
       "                        <td id=\"T_596cd00a_b898_11e9_882b_5c5f67a418f1row0_col1\" class=\"data row0 col1\" >0</td>\n",
       "                        <td id=\"T_596cd00a_b898_11e9_882b_5c5f67a418f1row0_col2\" class=\"data row0 col2\" >datetime64[ns]</td>\n",
       "                        <td id=\"T_596cd00a_b898_11e9_882b_5c5f67a418f1row0_col3\" class=\"data row0 col3\" >some explanation about this columns</td>\n",
       "                        <td id=\"T_596cd00a_b898_11e9_882b_5c5f67a418f1row0_col4\" class=\"data row0 col4\" >4<br> 67%</td>\n",
       "                        <td id=\"T_596cd00a_b898_11e9_882b_5c5f67a418f1row0_col5\" class=\"data row0 col5\" >3<br> 50%</td>\n",
       "                        <td id=\"T_596cd00a_b898_11e9_882b_5c5f67a418f1row0_col6\" class=\"data row0 col6\" >NaT<br>2017-01-01 00:00:00<br>1990-01-01 00:00:00<b</td>\n",
       "                        <td id=\"T_596cd00a_b898_11e9_882b_5c5f67a418f1row0_col7\" class=\"data row0 col7\" >1990-01-01T00:00<br> 1996-10-01T12:00<br> 2003-07-03T00:00<br> 2010-04-02T12:00<br> 2017-01-01T00:00<br</td>\n",
       "                        <td id=\"T_596cd00a_b898_11e9_882b_5c5f67a418f1row0_col8\" class=\"data row0 col8\" ></td>\n",
       "                        <td id=\"T_596cd00a_b898_11e9_882b_5c5f67a418f1row0_col9\" class=\"data row0 col9\" ></td>\n",
       "                        <td id=\"T_596cd00a_b898_11e9_882b_5c5f67a418f1row0_col10\" class=\"data row0 col10\" >1990-01-01 00:00:00</td>\n",
       "                        <td id=\"T_596cd00a_b898_11e9_882b_5c5f67a418f1row0_col11\" class=\"data row0 col11\" >NaT</td>\n",
       "                        <td id=\"T_596cd00a_b898_11e9_882b_5c5f67a418f1row0_col12\" class=\"data row0 col12\" >NaT</td>\n",
       "            </tr>\n",
       "            <tr>\n",
       "                                <td id=\"T_596cd00a_b898_11e9_882b_5c5f67a418f1row1_col0\" class=\"data row1 col0\" >int_col</td>\n",
       "                        <td id=\"T_596cd00a_b898_11e9_882b_5c5f67a418f1row1_col1\" class=\"data row1 col1\" >1</td>\n",
       "                        <td id=\"T_596cd00a_b898_11e9_882b_5c5f67a418f1row1_col2\" class=\"data row1 col2\" >int64</td>\n",
       "                        <td id=\"T_596cd00a_b898_11e9_882b_5c5f67a418f1row1_col3\" class=\"data row1 col3\" >you <br>can use line break here</td>\n",
       "                        <td id=\"T_596cd00a_b898_11e9_882b_5c5f67a418f1row1_col4\" class=\"data row1 col4\" >0<br> 0%</td>\n",
       "                        <td id=\"T_596cd00a_b898_11e9_882b_5c5f67a418f1row1_col5\" class=\"data row1 col5\" >6<br> 100%</td>\n",
       "                        <td id=\"T_596cd00a_b898_11e9_882b_5c5f67a418f1row1_col6\" class=\"data row1 col6\" >23<br>6<br>645<br>4<br>34<br>0<b</td>\n",
       "                        <td id=\"T_596cd00a_b898_11e9_882b_5c5f67a418f1row1_col7\" class=\"data row1 col7\" >quantiles: [0.0, 4.5, 14.5, 31.25, 645.0]<br>                  mean: 118.67                std: 258.17                 cv: 2.18<br>                 skew: 1.78</td>\n",
       "                        <td id=\"T_596cd00a_b898_11e9_882b_5c5f67a418f1row1_col8\" class=\"data row1 col8\" > \"0\": 1, 16.67%</td>\n",
       "                        <td id=\"T_596cd00a_b898_11e9_882b_5c5f67a418f1row1_col9\" class=\"data row1 col9\" ></td>\n",
       "                        <td id=\"T_596cd00a_b898_11e9_882b_5c5f67a418f1row1_col10\" class=\"data row1 col10\" >34</td>\n",
       "                        <td id=\"T_596cd00a_b898_11e9_882b_5c5f67a418f1row1_col11\" class=\"data row1 col11\" >4</td>\n",
       "                        <td id=\"T_596cd00a_b898_11e9_882b_5c5f67a418f1row1_col12\" class=\"data row1 col12\" >6</td>\n",
       "            </tr>\n",
       "            <tr>\n",
       "                                <td id=\"T_596cd00a_b898_11e9_882b_5c5f67a418f1row2_col0\" class=\"data row2 col0\" >float_col</td>\n",
       "                        <td id=\"T_596cd00a_b898_11e9_882b_5c5f67a418f1row2_col1\" class=\"data row2 col1\" >2</td>\n",
       "                        <td id=\"T_596cd00a_b898_11e9_882b_5c5f67a418f1row2_col2\" class=\"data row2 col2\" >float64</td>\n",
       "                        <td id=\"T_596cd00a_b898_11e9_882b_5c5f67a418f1row2_col3\" class=\"data row2 col3\" ><li>use</li> <li>bullet</li> <li>points</li></td>\n",
       "                        <td id=\"T_596cd00a_b898_11e9_882b_5c5f67a418f1row2_col4\" class=\"data row2 col4\" >1<br> 17%</td>\n",
       "                        <td id=\"T_596cd00a_b898_11e9_882b_5c5f67a418f1row2_col5\" class=\"data row2 col5\" >6<br> 100%</td>\n",
       "                        <td id=\"T_596cd00a_b898_11e9_882b_5c5f67a418f1row2_col6\" class=\"data row2 col6\" >21399.23<br>4592309.23<br>434.74<br>132.54<br>0.0<br>nan<b</td>\n",
       "                        <td id=\"T_596cd00a_b898_11e9_882b_5c5f67a418f1row2_col7\" class=\"data row2 col7\" >quantiles: [0.0, 132.54, 434.74, 21399.23, 4592309.23]<br>                  mean: 922855.15                std: 2051307.76                 cv: 2.22<br>                 skew: 1.50</td>\n",
       "                        <td id=\"T_596cd00a_b898_11e9_882b_5c5f67a418f1row2_col8\" class=\"data row2 col8\" > \"0\": 1, 16.67%</td>\n",
       "                        <td id=\"T_596cd00a_b898_11e9_882b_5c5f67a418f1row2_col9\" class=\"data row2 col9\" ></td>\n",
       "                        <td id=\"T_596cd00a_b898_11e9_882b_5c5f67a418f1row2_col10\" class=\"data row2 col10\" >132.54</td>\n",
       "                        <td id=\"T_596cd00a_b898_11e9_882b_5c5f67a418f1row2_col11\" class=\"data row2 col11\" >0</td>\n",
       "                        <td id=\"T_596cd00a_b898_11e9_882b_5c5f67a418f1row2_col12\" class=\"data row2 col12\" >4.59231e+06</td>\n",
       "            </tr>\n",
       "            <tr>\n",
       "                                <td id=\"T_596cd00a_b898_11e9_882b_5c5f67a418f1row3_col0\" class=\"data row3 col0\" >bool_col</td>\n",
       "                        <td id=\"T_596cd00a_b898_11e9_882b_5c5f67a418f1row3_col1\" class=\"data row3 col1\" >3</td>\n",
       "                        <td id=\"T_596cd00a_b898_11e9_882b_5c5f67a418f1row3_col2\" class=\"data row3 col2\" >bool</td>\n",
       "                        <td id=\"T_596cd00a_b898_11e9_882b_5c5f67a418f1row3_col3\" class=\"data row3 col3\" >in case anything is <mark><b>IMPORTANT</b></mark></td>\n",
       "                        <td id=\"T_596cd00a_b898_11e9_882b_5c5f67a418f1row3_col4\" class=\"data row3 col4\" >0<br> 0%</td>\n",
       "                        <td id=\"T_596cd00a_b898_11e9_882b_5c5f67a418f1row3_col5\" class=\"data row3 col5\" >2<br> 33%</td>\n",
       "                        <td id=\"T_596cd00a_b898_11e9_882b_5c5f67a418f1row3_col6\" class=\"data row3 col6\" >False<br>True<b</td>\n",
       "                        <td id=\"T_596cd00a_b898_11e9_882b_5c5f67a418f1row3_col7\" class=\"data row3 col7\" >False 67%<br>True 33%<b</td>\n",
       "                        <td id=\"T_596cd00a_b898_11e9_882b_5c5f67a418f1row3_col8\" class=\"data row3 col8\" ></td>\n",
       "                        <td id=\"T_596cd00a_b898_11e9_882b_5c5f67a418f1row3_col9\" class=\"data row3 col9\" ></td>\n",
       "                        <td id=\"T_596cd00a_b898_11e9_882b_5c5f67a418f1row3_col10\" class=\"data row3 col10\" >True</td>\n",
       "                        <td id=\"T_596cd00a_b898_11e9_882b_5c5f67a418f1row3_col11\" class=\"data row3 col11\" >False</td>\n",
       "                        <td id=\"T_596cd00a_b898_11e9_882b_5c5f67a418f1row3_col12\" class=\"data row3 col12\" >False</td>\n",
       "            </tr>\n",
       "            <tr>\n",
       "                                <td id=\"T_596cd00a_b898_11e9_882b_5c5f67a418f1row4_col0\" class=\"data row4 col0\" >category_col</td>\n",
       "                        <td id=\"T_596cd00a_b898_11e9_882b_5c5f67a418f1row4_col1\" class=\"data row4 col1\" >4</td>\n",
       "                        <td id=\"T_596cd00a_b898_11e9_882b_5c5f67a418f1row4_col2\" class=\"data row4 col2\" >category</td>\n",
       "                        <td id=\"T_596cd00a_b898_11e9_882b_5c5f67a418f1row4_col3\" class=\"data row4 col3\" ><a target='_blank' rel='noopener noreferrer' href='https://github.com/tll549/TEF'>add a link to TEF</a></td>\n",
       "                        <td id=\"T_596cd00a_b898_11e9_882b_5c5f67a418f1row4_col4\" class=\"data row4 col4\" >0<br> 0%</td>\n",
       "                        <td id=\"T_596cd00a_b898_11e9_882b_5c5f67a418f1row4_col5\" class=\"data row4 col5\" >3<br> 50%</td>\n",
       "                        <td id=\"T_596cd00a_b898_11e9_882b_5c5f67a418f1row4_col6\" class=\"data row4 col6\" >b<br>a<br>c<b</td>\n",
       "                        <td id=\"T_596cd00a_b898_11e9_882b_5c5f67a418f1row4_col7\" class=\"data row4 col7\" >b 50%<br>a 33%<br>c 17%<b</td>\n",
       "                        <td id=\"T_596cd00a_b898_11e9_882b_5c5f67a418f1row4_col8\" class=\"data row4 col8\" ></td>\n",
       "                        <td id=\"T_596cd00a_b898_11e9_882b_5c5f67a418f1row4_col9\" class=\"data row4 col9\" ></td>\n",
       "                        <td id=\"T_596cd00a_b898_11e9_882b_5c5f67a418f1row4_col10\" class=\"data row4 col10\" >a</td>\n",
       "                        <td id=\"T_596cd00a_b898_11e9_882b_5c5f67a418f1row4_col11\" class=\"data row4 col11\" >b</td>\n",
       "                        <td id=\"T_596cd00a_b898_11e9_882b_5c5f67a418f1row4_col12\" class=\"data row4 col12\" >c</td>\n",
       "            </tr>\n",
       "            <tr>\n",
       "                                <td id=\"T_596cd00a_b898_11e9_882b_5c5f67a418f1row5_col0\" class=\"data row5 col0\" >object_col</td>\n",
       "                        <td id=\"T_596cd00a_b898_11e9_882b_5c5f67a418f1row5_col1\" class=\"data row5 col1\" >5</td>\n",
       "                        <td id=\"T_596cd00a_b898_11e9_882b_5c5f67a418f1row5_col2\" class=\"data row5 col2\" >object</td>\n",
       "                        <td id=\"T_596cd00a_b898_11e9_882b_5c5f67a418f1row5_col3\" class=\"data row5 col3\" ><b>bold</b> and <i>italic</i> ofc</td>\n",
       "                        <td id=\"T_596cd00a_b898_11e9_882b_5c5f67a418f1row5_col4\" class=\"data row5 col4\" >0<br> 0%</td>\n",
       "                        <td id=\"T_596cd00a_b898_11e9_882b_5c5f67a418f1row5_col5\" class=\"data row5 col5\" >6<br> 100%</td>\n",
       "                        <td id=\"T_596cd00a_b898_11e9_882b_5c5f67a418f1row5_col6\" class=\"data row5 col6\" > <br>zzzzz<br>   <br>zzzz<br>nan<br>x<b</td>\n",
       "                        <td id=\"T_596cd00a_b898_11e9_882b_5c5f67a418f1row5_col7\" class=\"data row5 col7\" >  17%<br>zzzzz 17%<br>    17%<br>zzzz 17%<br>nan 17%<br>x 17%<b</td>\n",
       "                        <td id=\"T_596cd00a_b898_11e9_882b_5c5f67a418f1row5_col8\" class=\"data row5 col8\" > \" \": 1, 16.67% \"nan\": 1, 16.67%</td>\n",
       "                        <td id=\"T_596cd00a_b898_11e9_882b_5c5f67a418f1row5_col9\" class=\"data row5 col9\" >(zzzzz, zzzz)</td>\n",
       "                        <td id=\"T_596cd00a_b898_11e9_882b_5c5f67a418f1row5_col10\" class=\"data row5 col10\" >zzzzz</td>\n",
       "                        <td id=\"T_596cd00a_b898_11e9_882b_5c5f67a418f1row5_col11\" class=\"data row5 col11\" >nan</td>\n",
       "                        <td id=\"T_596cd00a_b898_11e9_882b_5c5f67a418f1row5_col12\" class=\"data row5 col12\" >   </td>\n",
       "            </tr>\n",
       "    </tbody></table>"
      ],
      "text/plain": [
       "<pandas.io.formats.style.Styler at 0x26580297ba8>"
      ]
     },
     "execution_count": 5,
     "metadata": {},
     "output_type": "execute_result"
    }
   ],
   "source": [
    "desc = {\n",
    "    \"datetime_col\"            : \"some explanation about this columns\",\n",
    "    \"int_col\"                 : \"you <br>can use line break here\",\n",
    "    \"float_col\"               : \"<li>use</li> <li>bullet</li> <li>points</li>\",\n",
    "    \"bool_col\"                : \"in case anything is <mark><b>IMPORTANT</b></mark>\",\n",
    "    \"category_col\"            : \"<a target='_blank' rel='noopener noreferrer' href='https://github.com/tll549/TEF'>add a link to TEF</a>\",\n",
    "    \"object_col\"              : \"<b>bold</b> and <i>italic</i> ofc\"\n",
    "}\n",
    "TEF.dfmeta(d, description=desc)"
   ]
  },
  {
   "cell_type": "markdown",
   "metadata": {},
   "source": [
    "The background is colored by dtypes, and every row is actually a columns in the original dataset. Every row is now a descriptive result for that column. \n",
    "\n",
    "- *idx* shows the index of that column\n",
    "- *dtype*\n",
    "- *description* is a place that you can input your own explanation, will explain more detail below\n",
    "- *NaNs* shows the number of nulls and the percentage\n",
    "- *unique counts* shows the number of unique values of that columns, and percentage\n",
    "- *unique levs* tries to show all unique values, if that's not too much (adjust in `max_lev`), for this tiny dataset, it shows all because the default is 10\n",
    "- *summary* shows \n",
    "    - for datatime, quantiles [0% (min), 25%, 50% (median), 75%, 100% (max)]\n",
    "    - for int and float, quantiles, mean, standard error, CV (coefficient of variance, std/mean), skewness, it will followed by a star (\\*) if it doesn't pass the normality test (skewtest), and another skewtest after taking log\n",
    "    - for bool, categoy and object, it gives percentage of all levels, if not too much\n",
    "- *possible NaNs* tries to detect potential null caused by manually coded values or something similar, for instance, sometimes a space ' ' or a string 'nan' actually means a NaN.\n",
    "- *possible dup lev* tries to detect potential possible duplicate levels, such as sometimes 'object1111' should actually be the same value as 'object111' just because of typo.\n",
    "- the rest 3 columns are randomly sample from the dataset, where we human always like an example\n",
    "\n",
    "You may wonder, the original 6\\*6 dataset now becomes a larger 6\\*12 meta data, is that something useful? Indeed, it is not useful for a small dataset, but imagine an insanely large 10 millions rows \\* 500 columns dataset, the summary meta dataframe will only have dimension of 500\\*12! It is always a good idea to start from summary statistics and examples.\n",
    "\n",
    "**discription**\n",
    "\n",
    "Those columns names are not always clear and straight forward. We usually want to save a dictionary/explanation somewhere. \n",
    "\n",
    "This function takes an dictionary `description` that you can put brief explanations here, and just get back to here anytime when you are doing the analysis. Also, it allows you to output a HTML file as exactly what you see so that you can save it somewhere in your working directory!\n",
    "\n",
    "First, use `get_desc_template()` to get a template, copy and paste to the chunk and start filling in your explanations, HTML code is also okay! See above example for what you can do."
   ]
  },
  {
   "cell_type": "code",
   "execution_count": 6,
   "metadata": {
    "ExecuteTime": {
     "end_time": "2019-08-06T22:20:08.650354Z",
     "start_time": "2019-08-06T22:20:08.646384Z"
    }
   },
   "outputs": [
    {
     "name": "stdout",
     "output_type": "stream",
     "text": [
      "desc = {\n",
      "    \"datetime_col\"            : \"\",\n",
      "    \"int_col\"                 : \"\",\n",
      "    \"float_col\"               : \"\",\n",
      "    \"bool_col\"                : \"\",\n",
      "    \"category_col\"            : \"\",\n",
      "    \"object_col\"              : \"\"\n",
      "}\n"
     ]
    }
   ],
   "source": [
    "TEF.get_desc_template(d)"
   ]
  },
  {
   "cell_type": "markdown",
   "metadata": {},
   "source": [
    "In the end, you may want to save this (hopefully) beautiful meta dataframe some where, use `save_html_standard` to automatically generate a HTML file, it also remove *unique levs*, possible errors, and samples for a concise output.\n",
    "\n",
    "See doc for `dfmeta2html()` if you want to configure."
   ]
  },
  {
   "cell_type": "code",
   "execution_count": 9,
   "metadata": {
    "ExecuteTime": {
     "end_time": "2019-08-06T22:20:50.870272Z",
     "start_time": "2019-08-06T22:20:50.791468Z"
    }
   },
   "outputs": [],
   "source": [
    "TEF.save_html_standard(d, desc, 'meta_d.html', 'This is an header in the html file')"
   ]
  },
  {
   "cell_type": "markdown",
   "metadata": {},
   "source": [
    "## plot_1var"
   ]
  },
  {
   "cell_type": "markdown",
   "metadata": {},
   "source": [
    "Now, the next step is usually plot histogram and have a sense about distributions. This is exactly what it does for `plot_1var()` function. It handles different dtypes and choss a way to summary it using plot."
   ]
  },
  {
   "cell_type": "code",
   "execution_count": 10,
   "metadata": {
    "ExecuteTime": {
     "end_time": "2019-08-06T22:21:03.746102Z",
     "start_time": "2019-08-06T22:21:02.036273Z"
    },
    "scrolled": true
   },
   "outputs": [
    {
     "data": {
      "image/png": "[encoded data removed]",
      "text/plain": [
       "<Figure size 576x144 with 1 Axes>"
      ]
     },
     "metadata": {
      "needs_background": "light"
     },
     "output_type": "display_data"
    },
    {
     "data": {
      "image/png": "[encoded data removed]",
      "text/plain": [
       "<Figure size 576x144 with 2 Axes>"
      ]
     },
     "metadata": {
      "needs_background": "light"
     },
     "output_type": "display_data"
    },
    {
     "data": {
      "image/png": "[encoded data removed]",
      "text/plain": [
       "<Figure size 576x144 with 2 Axes>"
      ]
     },
     "metadata": {
      "needs_background": "light"
     },
     "output_type": "display_data"
    },
    {
     "name": "stdout",
     "output_type": "stream",
     "text": [
      "quantiles: [0.0, 4.5, 14.5, 31.25, 645.0], mean: 118.67, NaNs: 0\n",
      "ignored 16.67% 0s and 0 NaNs\n"
     ]
    },
    {
     "data": {
      "image/png": "[encoded data removed]",
      "text/plain": [
       "<Figure size 576x144 with 2 Axes>"
      ]
     },
     "metadata": {
      "needs_background": "light"
     },
     "output_type": "display_data"
    },
    {
     "data": {
      "image/png": "[encoded data removed]",
      "text/plain": [
       "<Figure size 576x144 with 2 Axes>"
      ]
     },
     "metadata": {
      "needs_background": "light"
     },
     "output_type": "display_data"
    },
    {
     "name": "stdout",
     "output_type": "stream",
     "text": [
      "quantiles: [0.0, 132.54, 434.74, 21399.23, 4592309.23], mean: 922855.15, NaNs: 16.67%\n",
      "ignored 16.67% 0s and 16.67% NaNs\n"
     ]
    },
    {
     "data": {
      "image/png": "[encoded data removed]",
      "text/plain": [
       "<Figure size 576x144 with 1 Axes>"
      ]
     },
     "metadata": {
      "needs_background": "light"
     },
     "output_type": "display_data"
    },
    {
     "data": {
      "image/png": "[encoded data removed]",
      "text/plain": [
       "<Figure size 576x144 with 1 Axes>"
      ]
     },
     "metadata": {
      "needs_background": "light"
     },
     "output_type": "display_data"
    },
    {
     "name": "stdout",
     "output_type": "stream",
     "text": [
      "100.00% disaplyed\n"
     ]
    },
    {
     "data": {
      "image/png": "[encoded data removed]",
      "text/plain": [
       "<Figure size 576x144 with 1 Axes>"
      ]
     },
     "metadata": {
      "needs_background": "light"
     },
     "output_type": "display_data"
    }
   ],
   "source": [
    "TEF.plot_1var(d)"
   ]
  },
  {
   "cell_type": "markdown",
   "metadata": {},
   "source": [
    "## plot_1var_by_cat_y"
   ]
  },
  {
   "cell_type": "markdown",
   "metadata": {},
   "source": [
    "Now if you have a dependent variable that your main interest is in. You probably are wondering the relationship between independent variables and it. Put the categorical dependent variable in the second argument and it will do the rest!"
   ]
  },
  {
   "cell_type": "code",
   "execution_count": 11,
   "metadata": {
    "ExecuteTime": {
     "end_time": "2019-08-06T22:21:05.847655Z",
     "start_time": "2019-08-06T22:21:04.427433Z"
    },
    "scrolled": true
   },
   "outputs": [
    {
     "name": "stdout",
     "output_type": "stream",
     "text": [
      "0 not yet for datetime\n"
     ]
    },
    {
     "data": {
      "image/png": "[encoded data removed]",
      "text/plain": [
       "<Figure size 360x360 with 1 Axes>"
      ]
     },
     "metadata": {
      "needs_background": "light"
     },
     "output_type": "display_data"
    },
    {
     "name": "stdout",
     "output_type": "stream",
     "text": [
      "NaNs: 0\n"
     ]
    },
    {
     "data": {
      "image/png": "[encoded data removed]",
      "text/plain": [
       "<Figure size 360x360 with 1 Axes>"
      ]
     },
     "metadata": {
      "needs_background": "light"
     },
     "output_type": "display_data"
    },
    {
     "name": "stdout",
     "output_type": "stream",
     "text": [
      "NaNs: 16.67%\n"
     ]
    },
    {
     "data": {
      "image/png": "[encoded data removed]",
      "text/plain": [
       "<Figure size 432x288 with 2 Axes>"
      ]
     },
     "metadata": {
      "needs_background": "light"
     },
     "output_type": "display_data"
    },
    {
     "data": {
      "image/png": "[encoded data removed]",
      "text/plain": [
       "<Figure size 432x288 with 2 Axes>"
      ]
     },
     "metadata": {
      "needs_background": "light"
     },
     "output_type": "display_data"
    }
   ],
   "source": [
    "TEF.plot_1var_by_cat_y(d, 'category_col')"
   ]
  },
  {
   "cell_type": "markdown",
   "metadata": {},
   "source": [
    "# Documentations"
   ]
  },
  {
   "cell_type": "markdown",
   "metadata": {},
   "source": [
    "## auto_set_dtypes\n",
    "\n",
    "```\n",
    "auto_set_dtypes(df, max_num_lev=10, \n",
    "                set_datetime=[], set_category=[], set_int=[], set_object=[], set_bool=[],\n",
    "                set_datetime_by_pattern=r'\\d{4}-\\d{2}-\\d{2}',\n",
    "                verbose=1)\n",
    "```\n",
    "\n",
    "**required package**: numpy, pandas, re, io (will import automatically when call the function, just a heads up here)\n",
    "\n",
    "**description**\n",
    "- set to datetime if the pattern is like '2018-08-08'\n",
    "    - it's designed for all datetime columns in a dataset have the same format like 2019-06-06 06:06:06 (such as downloaded from DOMO)\n",
    "- set to category if the number unique levels is less than max_num_lev\n",
    "- set_dtypes can be used for manually configurations, set_object can be used for ID columns\n",
    "- will also trying to detect possible ID columns for seaching string 'id' in them, if verbose >= 1\n",
    "- notice if there are nulls between True and False columns, it should be set to bool\n",
    "\n",
    "**args**\n",
    "- df: pandas dataframe\n",
    "- max_num_lev: the maximum number of levels that should be converted to category\n",
    "- set_{datetime/category/int/object/bool}: a list of indices, e.g. [0, 3, 5], force these columns to be set to those dtypes\n",
    "- set_datetime_by_pattern: a regular expression string, recommend using the default\n",
    "- verbose: int/string, 0/False, 1/'summary', or 2/'detailed'. different type of printouts showing the transformations"
   ]
  },
  {
   "cell_type": "markdown",
   "metadata": {},
   "source": [
    "## dfmeta\n",
    "\n",
    "```\n",
    "dfmeta(df, max_lev=10, transpose=True, sample=True, description=None,\n",
    "           style=True, color_bg_by_type=True, highlight_nan=0.5, in_cell_next_line=True,\n",
    "           verbose=True, drop=None,\n",
    "           check_possible_error=True, dup_lev_prop=0.7,\n",
    "           save_html=None)\n",
    "```\n",
    "\n",
    "**required package**: numpy, pandas, io, scipy.stats.skew, scipy.stats.skewtest\n",
    "\n",
    "**description**\n",
    "- return meta data for the given dataset, see above quick start for example\n",
    "- use `dfmeta2html` to save the returned object to html, `save_html_standard` to set with default configurations\n",
    "\n",
    "**args**\n",
    "- df: pandas dataframe\n",
    "- max_lev: int, the maximum acceptable number of unique levels\n",
    "- transpose: bool, if True, cols is still cols\n",
    "- sample: \n",
    "    - True:   sample 3 rows\n",
    "    - False:  don't sample\n",
    "    - 'head': sample first 3 rows\n",
    "    - int:    sample first int rows\n",
    "- description: dict, where keys are col names and values are description for that column, can contain html code\n",
    "- style: bool, if True, return html, add .render() to get original html codes; \n",
    "    if False, return pandas dataframe instead and will overwrites color_bg_by_type, highlight_nan, in_cell_next_line\n",
    "- color_bg_by_type: bool, coloy the cell background by dtyle, by column. will force to False if style=False\n",
    "- highlight_nan: float [0, 1] or False, the proportion of when should highlight nans. will force to False if style=False\n",
    "- in_cell_next_line: bool, if True, use 'br' to separate elements in a list; if False, use ', '\n",
    "- verbose: bool, whether to print the beginning shape, memory etc.\n",
    "- drop: columns (or rows if transpose=True) that wants to be dropped, doesn't suppor NaNs and dtypes now\n",
    "- check_possible_error: bool, check possible NaNs and duplicate levels or not\n",
    "- dup_lev_prop: float [0, 1], the criteria of the repeatness of two levels\n",
    "- save_html: a list with two strings elements [filename, head], e.g. ['cancelCasesDict.html', 'Cancel Cases Dictionary']\n",
    "  "
   ]
  },
  {
   "cell_type": "markdown",
   "metadata": {},
   "source": [
    "### get_desc_template\n",
    "\n",
    "```\n",
    "get_desc_template(df)\n",
    "```\n",
    "\n",
    "A function that takes the original dataframe and print a description template for user to fill in. See above for example."
   ]
  },
  {
   "cell_type": "markdown",
   "metadata": {},
   "source": [
    "### dfmeta2html\n",
    "\n",
    "```\n",
    "dfmeta2html(styled_df, filename, head, original_df=None)\n",
    "```\n",
    "\n",
    "**description**\n",
    "- save the styled meta dataframe to html file\n",
    "\n",
    "**args**\n",
    "- styled_df: the object returned by dfmeta\n",
    "- filename: string, can includes file path\n",
    "- head: the header in that html file (in h1 tag)\n",
    "- original_df: the original dataframe that was passed to dfmeta, use to generate verbose print out at the beginning of the file, can be ignored"
   ]
  },
  {
   "cell_type": "markdown",
   "metadata": {},
   "source": [
    "### save_html_standard\n",
    "\n",
    "```\n",
    "save_html_standard(df, description, filename, head)\n",
    "```\n",
    "\n",
    "A function that calls `dfmeta` first with `description=description, check_possible_error=False, sample=False, verbose=False, drop=['unique levs']`, then pass to `dfmeta2html` to generate html file.\n",
    "\n",
    "It's a recommended standard way for generating data dictionary."
   ]
  },
  {
   "cell_type": "markdown",
   "metadata": {},
   "source": [
    "## plot_1var\n",
    "\n",
    "```\n",
    "plot_1var(df, max_num_lev=20, log_numeric=True, cols=None, save_plt=None)\n",
    "```\n",
    "\n",
    "**required package**: numpy, pandas, seaborn, matplotlib.pyplot\n",
    "\n",
    "**description**\n",
    "\n",
    "plot a plot for every cols, according to its dtype\n",
    "\n",
    "**args**\n",
    "- df: pandas dataframe\n",
    "- max_num_lev: skip if theres too many levels, no need when used my auto_set_type function\n",
    "- log_numeric: bool, plot two more plots for numerical which take log on it\n",
    "- cols: a list of int, columns to plot, specify is you don't want to plot all columns, can be use with `save_plt` arg\n",
    "- save_plt: string, if not None, will save every plots to working directory, the string will be the prefix, a folder is okay but you need to creat the folder by yourself first"
   ]
  },
  {
   "cell_type": "markdown",
   "metadata": {},
   "source": [
    "## plot_1var_by_cat_y\n",
    "\n",
    "```\n",
    "plot_1var_by_cat_y(df, y, max_num_lev=20, log_numeric=True,\n",
    "    kind_for_num='boxen')\n",
    "```\n",
    "\n",
    "**required package**: pandas, seaborn, matplotlib.pyplot\n",
    "\n",
    "**description**\n",
    "\n",
    "plot a plot for every cols, agains the given y dependent var.\n",
    "\n",
    "Notice saving is not implemented yet, and datetime also, and `cat_y` means can only handle categorical y.\n",
    "\n",
    "**args**\n",
    "\n",
    "- df: pandas dataframe\n",
    "- y: string, col name of the dependent var\n",
    "- max_num_lev: skip if theres too many levels, no need when used my auto_set_type function\n",
    "- log_numeric, bool, take log on y axis if its numerical var, notice the 0's and negatives will be removed automatically\n",
    "- kind_for_num: string, 'boxen', 'box', 'violin', 'strip' (not recommend for big dataset), 'swarm' (not recommend for big dataset), the type of plot for numerical vars"
   ]
  }
 ],
 "metadata": {
  "kernelspec": {
   "display_name": "Python 3",
   "language": "python",
   "name": "python3"
  },
  "language_info": {
   "codemirror_mode": {
    "name": "ipython",
    "version": 3
   },
   "file_extension": ".py",
   "mimetype": "text/x-python",
   "name": "python",
   "nbconvert_exporter": "python",
   "pygments_lexer": "ipython3",
   "version": "3.7.3"
  },
  "toc": {
   "base_numbering": 1,
   "nav_menu": {},
   "number_sections": true,
   "sideBar": true,
   "skip_h1_title": false,
   "title_cell": "Table of Contents",
   "title_sidebar": "Contents",
   "toc_cell": false,
   "toc_position": {},
   "toc_section_display": true,
   "toc_window_display": true
  }
 },
 "nbformat": 4,
 "nbformat_minor": 2
}
